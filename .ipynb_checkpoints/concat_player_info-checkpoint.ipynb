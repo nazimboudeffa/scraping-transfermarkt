{
 "cells": [
  {
   "cell_type": "code",
   "execution_count": 1,
   "id": "c7ff413b-9789-4b2f-874d-5aa7d02a9918",
   "metadata": {},
   "outputs": [
    {
     "name": "stdout",
     "output_type": "stream",
     "text": [
      "5 fichiers fusionnés dans 'france_final.csv' ✅\n"
     ]
    }
   ],
   "source": [
    "import pandas as pd\n",
    "\n",
    "# Liste des fichiers que tu veux fusionner\n",
    "fichiers = [\n",
    "    \"final/player_info_monaco.csv\",\n",
    "    \"final/player_info_ol.csv\",\n",
    "    \"final/player_info_om.csv\",\n",
    "    \"final/player_info_psg.csv\",\n",
    "    \"final/player_info_strasbourg.csv\",\n",
    "    # ajoute d'autres fichiers ici\n",
    "]\n",
    "\n",
    "# Lire et concaténer tous les fichiers\n",
    "df_total = pd.concat([pd.read_csv(f) for f in fichiers], ignore_index=True)\n",
    "\n",
    "# Sauvegarder dans un fichier final\n",
    "df_total.to_csv(\"final/france_ligue1.csv\", index=False)\n",
    "\n",
    "print(f\"{len(fichiers)} fichiers fusionnés dans 'france_final.csv' ✅\")"
   ]
  },
  {
   "cell_type": "code",
   "execution_count": null,
   "id": "c71ecd21-1b67-4643-ab22-493838693773",
   "metadata": {},
   "outputs": [],
   "source": []
  }
 ],
 "metadata": {
  "kernelspec": {
   "display_name": "Python 3 (ipykernel)",
   "language": "python",
   "name": "python3"
  },
  "language_info": {
   "codemirror_mode": {
    "name": "ipython",
    "version": 3
   },
   "file_extension": ".py",
   "mimetype": "text/x-python",
   "name": "python",
   "nbconvert_exporter": "python",
   "pygments_lexer": "ipython3",
   "version": "3.13.2"
  }
 },
 "nbformat": 4,
 "nbformat_minor": 5
}
